{
 "cells": [
  {
   "cell_type": "markdown",
   "metadata": {},
   "source": [
    "# Part 1 : Solve a system of euqations"
   ]
  },
  {
   "cell_type": "code",
   "execution_count": null,
   "metadata": {},
   "outputs": [],
   "source": [
    "# equations:\n",
    "#1： x + y - z = 0\n",
    "#2：2x - y + z = 3\n",
    "#3: 3x + y +2z = 11\n",
    "\n",
    "# Ax|b \n",
    "\n",
    "# 1 1 -1 | 0\n",
    "# 2 -1 1 | 3\n",
    "# 3 1 2  | 11\n",
    "\n",
    "#Result: x = 1, y = 2 , z = 3"
   ]
  },
  {
   "cell_type": "markdown",
   "metadata": {},
   "source": [
    "# Part 2: Write a function and solve using elimination"
   ]
  },
  {
   "cell_type": "code",
   "execution_count": 87,
   "metadata": {},
   "outputs": [],
   "source": [
    "import numpy as np \n",
    "from scipy import linalg \n",
    "import math \n"
   ]
  },
  {
   "cell_type": "code",
   "execution_count": 23,
   "metadata": {},
   "outputs": [],
   "source": [
    "def linearsolver(A,b):   \n",
    "    n = len(A)+1 \n",
    "    M = A \n",
    "\n",
    "    i = 0 \n",
    "    for x in M:\n",
    "        x.append(b[i]) \n",
    "        i += 1 \n",
    "\n",
    "    for k in range(n):   \n",
    "        for i in range(k,n): \n",
    "            if abs(M[i][k]) > abs(M[k][k]):  \n",
    "                M[k], M[i] = M[i],M[k]  \n",
    "            else: \n",
    "                pass  \n",
    "\n",
    "    for j in range(k+1,n):\n",
    "        q = M[j][k] / M[k][k] \n",
    "        for m in range(k, n+1):         \n",
    "            M[j][m] +=  q * M[k][m]\n",
    "\n",
    "    x = [0 for i in range(n)]\n",
    "\n",
    "    x[n] =float(M[n][n+1])/M[n][n]\n",
    "    for i in range (n-1,-1,-1): \n",
    "        z = 0 \n",
    "        for j in range(i+1,n):\n",
    "            z = z  + float(M[i][j])*x[j] \n",
    "        x[i] = float(M[i][n+1] - z)/M[i][i]\n",
    "    print(x)"
   ]
  },
  {
   "cell_type": "code",
   "execution_count": 25,
   "metadata": {
    "scrolled": true
   },
   "outputs": [
    {
     "name": "stdout",
     "output_type": "stream",
     "text": [
      "[0.5 0.3125 0.8125]\n"
     ]
    }
   ],
   "source": [
    "A = np.array([[1, 4, 4], [2, 5, 3], [2, 7, 1]])\n",
    "b = np.array([5, 5, 4])\n",
    "linearsolver(A,b)\n"
   ]
  },
  {
   "cell_type": "markdown",
   "metadata": {},
   "source": [
    "# Part 3. "
   ]
  },
  {
   "cell_type": "markdown",
   "metadata": {},
   "source": [
    "### Show that $AA^T$ does not equal to $A^TA$ in general\n",
    "Assume A with shape of (x,y)\n",
    "For $AA^T$, is a y * x matrix multiplies a x * y matric results a y * y matrix\n",
    "For $A^TA$, is a x * y matrix multiplies a y * x matric results a x * x matrix\n",
    "Under most situation, y * y is not equal to x * x"
   ]
  },
  {
   "cell_type": "markdown",
   "metadata": {},
   "source": [
    "### When  $AA^T$ does equal to $A^TA$\n",
    "When A is symetric, $A==A^T$, this equation is right. "
   ]
  },
  {
   "cell_type": "markdown",
   "metadata": {},
   "source": [
    "# Part 4: Matrix Factorization"
   ]
  },
  {
   "cell_type": "code",
   "execution_count": 94,
   "metadata": {},
   "outputs": [],
   "source": [
    "\n",
    "\n",
    "def mult_matrix(M, N):\n",
    "     #conver N                                                                                                                                                                                               \n",
    "    tuple_N = zip(*N)\n",
    "                                                                                                                                                                                 \n",
    "    return [[sum(el_m * el_n for el_m, el_n in zip(row_m, col_n)) for col_n in tuple_N] for row_m in M]\n",
    "\n",
    "#identy matrix\n",
    "def pivot_matrix(M):\n",
    "    m = len(M)\n",
    "\n",
    "                                                                                                                                                                                          \n",
    "    id_mat = [[float(i ==j) for i in xrange(m)] for j in xrange(m)]\n",
    "                                                                                                                                                                                  \n",
    "                                                                                                                                                                                              \n",
    "    for j in xrange(m):\n",
    "        row = max(xrange(j, m), key=lambda i: abs(M[i][j]))\n",
    "        if j != row:\n",
    "                                                                                                                                                                                                                                       \n",
    "            id_mat[j], id_mat[row] = id_mat[row], id_mat[j]\n",
    "\n",
    "    return id_mat\n",
    "\n",
    "def lu_decomposition(A):\n",
    "\n",
    "    n = len(A)\n",
    "\n",
    "    # Create L and U                                                                                                                                                                                                                 \n",
    "    L = [[0.0] * n for i in xrange(n)]\n",
    "    U = [[0.0] * n for i in xrange(n)]\n",
    "\n",
    "                                                                                                                                                                                              \n",
    "    P = pivot_matrix(A)\n",
    "    PA = mult_matrix(P, A)\n",
    "\n",
    "    #decomposition                                                                                                                                                                                                                 \n",
    "    for j in xrange(n):\n",
    "        # All diagonal entries of L are set to unity                                                                                                                                                                                                   \n",
    "        L[j][j] = 1.0\n",
    "\n",
    "                                                                                                                                                                                     \n",
    "        for i in xrange(j+1):\n",
    "            s1 = sum(U[k][j] * L[i][k] for k in xrange(i))\n",
    "            U[i][j] = PA[i][j] - s1\n",
    "\n",
    "                                                                                                                                                                  \n",
    "        for i in xrange(j, n):\n",
    "            s2 = sum(U[k][j] * L[i][k] for k in xrange(j))\n",
    "            L[i][j] = (PA[i][j] - s2) / U[j][j]\n",
    "\n",
    "    return (L, U)\n",
    "\n"
   ]
  },
  {
   "cell_type": "code",
   "execution_count": 98,
   "metadata": {},
   "outputs": [
    {
     "name": "stdout",
     "output_type": "stream",
     "text": [
      "A:\n",
      "[[ 5.  2.  5.]\n",
      " [ 1.  4.  5.]\n",
      " [ 1.  2. 15.]]\n",
      "L:\n",
      "[[1.         0.         0.        ]\n",
      " [0.2        1.         0.        ]\n",
      " [0.2        0.45       1.        ]]\n",
      "U:\n",
      "[[ 5.        2.        5.      ]\n",
      " [ 0.        3.6       4.      ]\n",
      " [ 0.        0.       12.]]\n"
     ]
    }
   ],
   "source": [
    "\n",
    "A = np.array([5, 2, 5], [1, 4, 5], [1, 2, 15])\n",
    "L, U = lu_decomposition(A)\n",
    "\n",
    "print \"A:\"\n",
    "print(A)\n",
    "\n",
    "print \"L:\"\n",
    "print(L)\n",
    "\n",
    "print \"U:\"\n",
    "pprint.pprint(U)\n",
    "\n"
   ]
  },
  {
   "cell_type": "markdown",
   "metadata": {},
   "source": [
    "# Part 5: Build your own function to solve a determinant for any matrix"
   ]
  },
  {
   "cell_type": "code",
   "execution_count": 49,
   "metadata": {},
   "outputs": [],
   "source": [
    "def dtmn(A):\n",
    "    #special situation\n",
    "    if A.shape[0] == 1:\n",
    "        return A[0][0]\n",
    "    \n",
    "    D = 0\n",
    "    for i in range(A.shape[0]):\n",
    "        A1 = np.delete(A,0,0)\n",
    "        A1 = np.delete(A1,i,1)\n",
    "        D += (-1)**(1+i+1)*A[0,i]*dtmn(A1) \n",
    "    \n",
    "    return D"
   ]
  },
  {
   "cell_type": "code",
   "execution_count": 106,
   "metadata": {
    "scrolled": false
   },
   "outputs": [
    {
     "name": "stdout",
     "output_type": "stream",
     "text": [
      "dtmn: 2\n",
      "Real: 2.0\n"
     ]
    }
   ],
   "source": [
    "# TEST 2X2\n",
    "x = np.array([[2,4], [1,3]])\n",
    "print(\"dtmn:\", dtmn(x))\n",
    "print(\"Real:\", np.linalg.det(x))"
   ]
  },
  {
   "cell_type": "code",
   "execution_count": 107,
   "metadata": {},
   "outputs": [
    {
     "name": "stdout",
     "output_type": "stream",
     "text": [
      "dtmn: 79\n",
      "Real: 79.0\n"
     ]
    }
   ],
   "source": [
    "# TEST 3X3 \n",
    "x = np.array([[1,4,6], [5,1,7],[2,4,3]])\n",
    "print(\"dtmn:\", dtmn(x))\n",
    "print(\"Real:\", np.linalg.det(x))"
   ]
  },
  {
   "cell_type": "code",
   "execution_count": 108,
   "metadata": {},
   "outputs": [
    {
     "name": "stdout",
     "output_type": "stream",
     "text": [
      "dtmn: 841\n",
      "Real: 841.0000000000002\n"
     ]
    }
   ],
   "source": [
    "# TEST 4X4\n",
    "x = np.array([[2,3,5,2], [1,2,-3,6],[-9,8,2,3],[5,-3,1,2]])\n",
    "print(\"dtmn:\", dtmn(x))\n",
    "print(\"Real:\", np.linalg.det(x))"
   ]
  },
  {
   "cell_type": "markdown",
   "metadata": {},
   "source": [
    "# Part 6: Build your own function from scratch to solve equations via Cramer’s rules."
   ]
  },
  {
   "cell_type": "code",
   "execution_count": 74,
   "metadata": {},
   "outputs": [],
   "source": [
    "def cmr(A, b):\n",
    "    m = A.shape[0]\n",
    "    b1 = b.reshape((m, 1))\n",
    "    x = np.zeros(m)\n",
    "    detA = dtmn(A)\n",
    "    \n",
    "    for i in range(0, m):\n",
    "        n = np.concatenate((A[0:m:1, 0:i:1], b1), axis=1)\n",
    "        n = np.concatenate((n, A[0:m:1, i+1:m:1]), axis=1)\n",
    "        x[i] = dtmn(n) / detA\n",
    "    \n",
    "    return x"
   ]
  },
  {
   "cell_type": "code",
   "execution_count": 81,
   "metadata": {
    "scrolled": true
   },
   "outputs": [
    {
     "name": "stdout",
     "output_type": "stream",
     "text": [
      "cmr: [0. 2.]\n",
      "Real:  [0. 2.]\n"
     ]
    }
   ],
   "source": [
    "# TEST 2X2\n",
    "A = np.array([[2, 3], [1, 4]])\n",
    "b = np.array([6, 8])\n",
    "print(\"cmr:\", cmr(A, b))\n",
    "print(\"Real: \", np.linalg.solve(A, b))"
   ]
  },
  {
   "cell_type": "code",
   "execution_count": 80,
   "metadata": {},
   "outputs": [
    {
     "name": "stdout",
     "output_type": "stream",
     "text": [
      "cmr: [0.375   0.34375 1.53125]\n",
      "Real:  [0.375   0.34375 1.53125]\n"
     ]
    }
   ],
   "source": [
    "# TEST 3X3\n",
    "A = np.array([[1, 3, 3], [2, 5, 1], [6, 2, 2]])\n",
    "b = np.array([6, 4, 6])\n",
    "print(\"cmr:\", cmr(A, b))\n",
    "print(\"Real: \", np.linalg.solve(A, b))"
   ]
  },
  {
   "cell_type": "code",
   "execution_count": 75,
   "metadata": {},
   "outputs": [
    {
     "name": "stdout",
     "output_type": "stream",
     "text": [
      "cmr: [ -6.91964286 -19.20535714  27.82142857  -7.03571429]\n",
      "Real:  [ -6.91964286 -19.20535714  27.82142857  -7.03571429]\n"
     ]
    }
   ],
   "source": [
    "# TEST 4X4\n",
    "A = np.array([[5, 3, 4, 2], [3, 1, 4, 9], [3, 5, 6, 4], [2, 6, 5, 1]])\n",
    "b = np.array([5, 8, 22, 3])\n",
    "print(\"cmr:\", cmr(A, b))\n",
    "print(\"Real: \", np.linalg.solve(A, b))"
   ]
  },
  {
   "cell_type": "code",
   "execution_count": null,
   "metadata": {},
   "outputs": [],
   "source": []
  },
  {
   "cell_type": "code",
   "execution_count": null,
   "metadata": {},
   "outputs": [],
   "source": []
  }
 ],
 "metadata": {
  "kernelspec": {
   "display_name": "Python 3",
   "language": "python",
   "name": "python3"
  },
  "language_info": {
   "codemirror_mode": {
    "name": "ipython",
    "version": 3
   },
   "file_extension": ".py",
   "mimetype": "text/x-python",
   "name": "python",
   "nbconvert_exporter": "python",
   "pygments_lexer": "ipython3",
   "version": "3.7.6"
  }
 },
 "nbformat": 4,
 "nbformat_minor": 4
}
